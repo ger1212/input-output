{
 "cells": [
  {
   "cell_type": "code",
   "execution_count": 3,
   "id": "63286de4",
   "metadata": {},
   "outputs": [
    {
     "name": "stdout",
     "output_type": "stream",
     "text": [
      "isikan bilangan 149\n",
      "isikan bilangan 222\n",
      "hasil dari 49 + 22 = 71\n"
     ]
    }
   ],
   "source": [
    "#inputoutput\n",
    "bil1 = input(\"isikan bilangan 1\")\n",
    "bil2 = input(\"isikan bilangan 2\")\n",
    "hasil = int(bil1) + int(bil2)\n",
    "print(\"hasil dari\",bil1,\"+\",bil2,\"=\", hasil)"
   ]
  },
  {
   "cell_type": "code",
   "execution_count": 1,
   "id": "418e2eba",
   "metadata": {},
   "outputs": [
    {
     "name": "stdout",
     "output_type": "stream",
     "text": [
      "masukan nilai panjang =88\n",
      "masukan nilai lebar =29\n",
      "luas 2552\n",
      "keliling 234\n"
     ]
    }
   ],
   "source": [
    "#program menghitung luas dan keliling persegi panjang\n",
    "\n",
    "panjang = input(\"masukan nilai panjang =\")\n",
    "lebar = input(\"masukan nilai lebar =\")\n",
    "luas = int(panjang)* int(lebar)\n",
    "keliling = 2 * (int(panjang)+ int(lebar))\n",
    "print(\"luas\" , luas)\n",
    "print(\"keliling\" , keliling)"
   ]
  },
  {
   "cell_type": "code",
   "execution_count": 4,
   "id": "591d49ca",
   "metadata": {},
   "outputs": [
    {
     "name": "stdout",
     "output_type": "stream",
     "text": [
      "a\n",
      "b\n",
      "c\n",
      "d^_^"
     ]
    }
   ],
   "source": [
    "print(\"a\" , \"b\" , \"c\" , \"d\", sep='\\n' , end=\"^_^\") #sep = separator / pembatas\n"
   ]
  },
  {
   "cell_type": "code",
   "execution_count": 5,
   "id": "8d557206",
   "metadata": {},
   "outputs": [
    {
     "name": "stdout",
     "output_type": "stream",
     "text": [
      "hasil dari 8 modulus 10 = 8\n"
     ]
    }
   ],
   "source": [
    "num_1 = 8\n",
    "num_2 = 10\n",
    "\n",
    "#hasil dari 8 modulus 10 = 8\n",
    "#str.format()\n",
    "\n",
    "print('hasil dari {} modulus {} = {}' .format(num_1,num_2,num_1%num_2))\n"
   ]
  },
  {
   "cell_type": "code",
   "execution_count": 9,
   "id": "a49ac2bf",
   "metadata": {},
   "outputs": [
    {
     "name": "stdout",
     "output_type": "stream",
     "text": [
      "nama anda ridwan skuy living\n"
     ]
    }
   ],
   "source": [
    "fname = \"ridwan\"\n",
    "mname = \"skuy\"\n",
    "iname = \"living\"\n",
    "\n",
    "print('nama anda {0} {1} {2}' .format(fname,mname,iname))"
   ]
  },
  {
   "cell_type": "code",
   "execution_count": 10,
   "id": "84417539",
   "metadata": {},
   "outputs": [
    {
     "name": "stdout",
     "output_type": "stream",
     "text": [
      "nama anda andri, nilai anda 70\n"
     ]
    }
   ],
   "source": [
    "print('nama anda {nama}, nilai anda {nilai}' .format(nama='andri' ,nilai=70))"
   ]
  },
  {
   "cell_type": "code",
   "execution_count": 13,
   "id": "6c979588",
   "metadata": {},
   "outputs": [
    {
     "name": "stdout",
     "output_type": "stream",
     "text": [
      "karakter pertama :  u\n",
      "karakter terakhir:  a\n",
      "universitas\n",
      "putra\n",
      "putra\n",
      "artup asun satisrevinu\n"
     ]
    }
   ],
   "source": [
    "univ = \"universitas nusa putra\"\n",
    "\n",
    "print(\"karakter pertama : \",univ[0])\n",
    "print(\"karakter terakhir: \",univ[-1])\n",
    "#universitas\n",
    "print(univ[0:11])\n",
    "print(univ[-5:])\n",
    "print(univ[17:])\n",
    "print(univ[::-1])"
   ]
  },
  {
   "cell_type": "code",
   "execution_count": 24,
   "id": "5e86af9c",
   "metadata": {},
   "outputs": [
    {
     "name": "stdout",
     "output_type": "stream",
     "text": [
      "nama saya rudi andri\n",
      "hasil pemjumlahan 100 + 20 = 120\n"
     ]
    }
   ],
   "source": [
    "f_name = 'rudi'\n",
    "l_name = 'andri'\n",
    "\n",
    "print(f'nama saya {f_name} {l_name}')\n",
    "\n",
    "first = 100\n",
    "second = 20\n",
    "\n",
    "print(f'hasil pemjumlahan {first} + {second} = {first+second}')\n"
   ]
  },
  {
   "cell_type": "code",
   "execution_count": null,
   "id": "dad82285",
   "metadata": {},
   "outputs": [],
   "source": [
    "nama = \"andri,budi,cika\"\n",
    "nama2 = \"amdri budi cika\"\n",
    "print(nama2.split())\n",
    "print(nama.split(','))\n",
    "\n",
    "#join ->menggabungkan string kedalam kumpulanm karakter\n",
    "print('@' .join(nama.split(',')))\n",
    "\n",
    "#input tgl lahir-> 18/oktober/2010\n",
    "#input nama -> bill gate\n",
    "#output\n",
    "#tgl : 18, bulan:, tahun :2010\n",
    "#nama inisial :bg\n",
    "\n",
    "tgl = input(\"masukan tanggal lahir : \")\n",
    "nama = input(\"masukan nama : \")\n",
    "pemisah = tgl.split(\"/\")\n",
    "print(f\"tanggal {pemisah[0]}, bulan{pemisah[1]}, tahun{pemisah[2]}\")\n",
    "pemisah2 = nama.split()\n",
    "nama_pertama = pemisah2[0]\n",
    "nama_kedua = pemisah2[1]\n",
    "print(f\"nama inisial : {nama_pertama[0]+nama_kedua[0]}\")"
   ]
  }
 ],
 "metadata": {
  "kernelspec": {
   "display_name": "Python 3 (ipykernel)",
   "language": "python",
   "name": "python3"
  },
  "language_info": {
   "codemirror_mode": {
    "name": "ipython",
    "version": 3
   },
   "file_extension": ".py",
   "mimetype": "text/x-python",
   "name": "python",
   "nbconvert_exporter": "python",
   "pygments_lexer": "ipython3",
   "version": "3.9.12"
  }
 },
 "nbformat": 4,
 "nbformat_minor": 5
}
